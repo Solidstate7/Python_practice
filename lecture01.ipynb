{
 "cells": [
  {
   "cell_type": "code",
   "execution_count": 2,
   "id": "ecbbfd4f-d0c5-41f2-b550-bb7df73d3256",
   "metadata": {
    "editable": true,
    "slideshow": {
     "slide_type": ""
    },
    "tags": []
   },
   "outputs": [
    {
     "name": "stdout",
     "output_type": "stream",
     "text": [
      "hello world\n"
     ]
    }
   ],
   "source": [
    "print('hello world');"
   ]
  },
  {
   "cell_type": "code",
   "execution_count": 4,
   "id": "3b3d855e-82be-4a66-bb0e-765d749dec68",
   "metadata": {},
   "outputs": [
    {
     "data": {
      "text/plain": [
       "6"
      ]
     },
     "execution_count": 4,
     "metadata": {},
     "output_type": "execute_result"
    }
   ],
   "source": [
    "1 + 2 + 3"
   ]
  },
  {
   "cell_type": "code",
   "execution_count": 6,
   "id": "2379c7ef-43ce-4fe3-8569-0b5d570ca3c6",
   "metadata": {},
   "outputs": [
    {
     "data": {
      "text/plain": [
       "18.0"
      ]
     },
     "execution_count": 6,
     "metadata": {},
     "output_type": "execute_result"
    }
   ],
   "source": [
    "1.5 * 12"
   ]
  },
  {
   "cell_type": "code",
   "execution_count": 8,
   "id": "e4f8715b-7468-42ca-9761-697ddae2fb21",
   "metadata": {},
   "outputs": [
    {
     "name": "stdout",
     "output_type": "stream",
     "text": [
      "git version 2.41.0.windows.1\n"
     ]
    }
   ],
   "source": [
    "!git -v"
   ]
  },
  {
   "cell_type": "code",
   "execution_count": 14,
   "id": "27f10a95-8a13-48f0-a15d-5e4ccbc9aaa5",
   "metadata": {},
   "outputs": [
    {
     "name": "stdout",
     "output_type": "stream",
     "text": [
      "The syntax of this command is:\n",
      "\n",
      "WHERE [/R dir] [/Q] [/F] [/T] pattern...\n",
      "\n",
      "Description:\n",
      "    Displays the location of files that match the search pattern.\n",
      "    By default, the search is done along the current directory and\n",
      "    in the paths specified by the PATH environment variable.\n",
      "\n",
      "Parameter List:\n",
      "    /R       Recursively searches and displays the files that match the\n",
      "             given pattern starting from the specified directory.\n",
      "\n",
      "    /Q       Returns only the exit code, without displaying the list\n",
      "             of matched files. (Quiet mode)\n",
      "\n",
      "    /F       Displays the matched filename in double quotes.\n",
      "\n",
      "    /T       Displays the file size, last modified date and time for all\n",
      "             matched files.\n",
      "\n",
      "    pattern  Specifies the search pattern for the files to match.\n",
      "             Wildcards * and ? can be used in the pattern. The\n",
      "             \"$env:pattern\" and \"path:pattern\" formats can also be\n",
      "             specified, where \"env\" is an environment variable and\n",
      "             the search is done in the specified paths of the \"env\"\n",
      "             environment variable. These formats should not be used\n",
      "             with /R. The search is also done by appending the\n",
      "             extensions of the PATHEXT variable to the pattern.\n",
      "\n",
      "     /?      Displays this help message.\n",
      "\n",
      "  NOTE: The tool returns an error level of 0 if the search is\n",
      "        successful, of 1 if the search is unsuccessful and\n",
      "        of 2 for failures or errors.\n",
      "\n",
      "Examples:\n",
      "    WHERE /?\n",
      "    WHERE myfilename1 myfile????.*\n",
      "    WHERE $windir:*.* \n",
      "    WHERE /R c:\\windows *.exe *.dll *.bat  \n",
      "    WHERE /Q ??.??? \n",
      "    WHERE \"c:\\windows;c:\\windows\\system32:*.dll\"\n",
      "    WHERE /F /T *.dll \n"
     ]
    }
   ],
   "source": [
    "!"
   ]
  }
 ],
 "metadata": {
  "kernelspec": {
   "display_name": "Python 3 (ipykernel)",
   "language": "python",
   "name": "python3"
  },
  "language_info": {
   "codemirror_mode": {
    "name": "ipython",
    "version": 3
   },
   "file_extension": ".py",
   "mimetype": "text/x-python",
   "name": "python",
   "nbconvert_exporter": "python",
   "pygments_lexer": "ipython3",
   "version": "3.12.2"
  }
 },
 "nbformat": 4,
 "nbformat_minor": 5
}
