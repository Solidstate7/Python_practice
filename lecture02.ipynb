{
 "cells": [
  {
   "cell_type": "code",
   "execution_count": 3,
   "id": "0863282a-938c-4504-87d8-475325b33997",
   "metadata": {
    "editable": true,
    "slideshow": {
     "slide_type": ""
    },
    "tags": []
   },
   "outputs": [
    {
     "name": "stdout",
     "output_type": "stream",
     "text": [
      "hello world\n"
     ]
    }
   ],
   "source": [
    "#-*- coding:utf-8 -*-\n",
    "print('hello world')"
   ]
  },
  {
   "cell_type": "code",
   "execution_count": 5,
   "id": "bfbb4602-1ddb-4745-a9c8-70c153d7e610",
   "metadata": {},
   "outputs": [
    {
     "data": {
      "text/plain": [
       "7"
      ]
     },
     "execution_count": 5,
     "metadata": {},
     "output_type": "execute_result"
    }
   ],
   "source": [
    "7"
   ]
  },
  {
   "cell_type": "code",
   "execution_count": 11,
   "id": "0fd8f9bb-a701-40ac-a3f5-4485577742e0",
   "metadata": {},
   "outputs": [
    {
     "data": {
      "text/plain": [
       "'hello'"
      ]
     },
     "execution_count": 11,
     "metadata": {},
     "output_type": "execute_result"
    }
   ],
   "source": [
    "'hello' # echo"
   ]
  },
  {
   "cell_type": "code",
   "execution_count": 10,
   "id": "56f8c061-7241-4178-9ca9-0fc47ee09504",
   "metadata": {},
   "outputs": [
    {
     "name": "stdout",
     "output_type": "stream",
     "text": [
      "hello\n"
     ]
    }
   ],
   "source": [
    "print('hello')"
   ]
  },
  {
   "cell_type": "code",
   "execution_count": 13,
   "id": "63e6ced9-5b7e-4a3f-be5f-917bbbd90e78",
   "metadata": {},
   "outputs": [
    {
     "name": "stdout",
     "output_type": "stream",
     "text": [
      "hello world\n",
      "Python is fun\n"
     ]
    }
   ],
   "source": [
    "print('hello world')\n",
    "print('Python is fun')"
   ]
  },
  {
   "cell_type": "code",
   "execution_count": 15,
   "id": "8136a469-b1b2-4a66-b857-b21d7cecf701",
   "metadata": {},
   "outputs": [
    {
     "data": {
      "text/plain": [
       "25"
      ]
     },
     "execution_count": 15,
     "metadata": {},
     "output_type": "execute_result"
    }
   ],
   "source": [
    "2024 - 1999"
   ]
  },
  {
   "cell_type": "code",
   "execution_count": 17,
   "id": "e2b05739-2ec7-4d6f-8a0a-31e43dc49502",
   "metadata": {},
   "outputs": [
    {
     "name": "stdout",
     "output_type": "stream",
     "text": [
      "25\n"
     ]
    }
   ],
   "source": [
    "print(2024 - 1999)"
   ]
  },
  {
   "cell_type": "code",
   "execution_count": 19,
   "id": "db16eb73-eff5-4a95-bb37-a92c5a09ed89",
   "metadata": {},
   "outputs": [
    {
     "name": "stdout",
     "output_type": "stream",
     "text": [
      "7000.0\n"
     ]
    }
   ],
   "source": [
    "print(35000/5)"
   ]
  },
  {
   "cell_type": "code",
   "execution_count": null,
   "id": "b74599e3-a72a-47d2-8b58-1c5bdec9cec0",
   "metadata": {},
   "outputs": [],
   "source": [
    "    print((3 + 5*2) / (4**2))"
   ]
  },
  {
   "cell_type": "code",
   "execution_count": null,
   "id": "40b6c257-6744-44aa-87cd-394941c4dd81",
   "metadata": {},
   "outputs": [],
   "source": [
    "    print('Indentation ERROR!')\n",
    "\n",
    "# split cell and merge cells"
   ]
  }
 ],
 "metadata": {
  "kernelspec": {
   "display_name": "Python 3 (ipykernel)",
   "language": "python",
   "name": "python3"
  },
  "language_info": {
   "codemirror_mode": {
    "name": "ipython",
    "version": 3
   },
   "file_extension": ".py",
   "mimetype": "text/x-python",
   "name": "python",
   "nbconvert_exporter": "python",
   "pygments_lexer": "ipython3",
   "version": "3.12.2"
  }
 },
 "nbformat": 4,
 "nbformat_minor": 5
}
