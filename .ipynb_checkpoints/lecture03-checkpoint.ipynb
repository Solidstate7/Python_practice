{
 "cells": [
  {
   "cell_type": "code",
   "execution_count": 2,
   "id": "b19c3e99-9c98-46ce-8e44-81c844a84b23",
   "metadata": {},
   "outputs": [
    {
     "data": {
      "text/plain": [
       "10"
      ]
     },
     "execution_count": 2,
     "metadata": {},
     "output_type": "execute_result"
    }
   ],
   "source": [
    "Hello = 10\n",
    "Hello"
   ]
  },
  {
   "cell_type": "code",
   "execution_count": 4,
   "id": "8b425c69-3e40-4fbf-91e2-f9e5da1c5b9e",
   "metadata": {},
   "outputs": [],
   "source": [
    "Hello2 = Hello * 2"
   ]
  },
  {
   "cell_type": "code",
   "execution_count": 5,
   "id": "b3307c89-31e1-4534-ad30-4a18a8c830dd",
   "metadata": {},
   "outputs": [
    {
     "data": {
      "text/plain": [
       "20"
      ]
     },
     "execution_count": 5,
     "metadata": {},
     "output_type": "execute_result"
    }
   ],
   "source": [
    "Hello2"
   ]
  },
  {
   "cell_type": "code",
   "execution_count": 13,
   "id": "0c277358-b669-43b4-95f0-44ed916971b0",
   "metadata": {},
   "outputs": [
    {
     "name": "stdout",
     "output_type": "stream",
     "text": [
      "1256.0\n"
     ]
    }
   ],
   "source": [
    "# Variable allocation\n",
    "pi = 3.14\n",
    "radius  = 20\n",
    "# Print area of circle\n",
    "print(radius**2*pi)"
   ]
  },
  {
   "cell_type": "code",
   "execution_count": 14,
   "id": "e6b0b3e5-b641-4eb9-8ef9-480532258695",
   "metadata": {},
   "outputs": [
    {
     "name": "stdout",
     "output_type": "stream",
     "text": [
      "1 2\n"
     ]
    }
   ],
   "source": [
    "a,b =1,2\n",
    "print(a,b)"
   ]
  },
  {
   "cell_type": "code",
   "execution_count": 15,
   "id": "19240402-d69a-41e5-9520-ed07fe737718",
   "metadata": {},
   "outputs": [
    {
     "name": "stdout",
     "output_type": "stream",
     "text": [
      "2 1\n"
     ]
    }
   ],
   "source": [
    "a,b = b,a\n",
    "print(a,b)"
   ]
  },
  {
   "cell_type": "code",
   "execution_count": 19,
   "id": "fb5c733f-9d1f-4a60-baec-a15f53202feb",
   "metadata": {},
   "outputs": [
    {
     "data": {
      "text/plain": [
       "2.4"
      ]
     },
     "execution_count": 19,
     "metadata": {},
     "output_type": "execute_result"
    }
   ],
   "source": [
    "12 / 5"
   ]
  },
  {
   "cell_type": "code",
   "execution_count": 20,
   "id": "a5a27f36-f9be-42e7-aefa-c92e34ec24a5",
   "metadata": {},
   "outputs": [
    {
     "data": {
      "text/plain": [
       "64"
      ]
     },
     "execution_count": 20,
     "metadata": {},
     "output_type": "execute_result"
    }
   ],
   "source": [
    "4 ** 3"
   ]
  },
  {
   "cell_type": "code",
   "execution_count": 21,
   "id": "4b3c7cb9-4f50-454b-b787-eb79ff3b0ca6",
   "metadata": {},
   "outputs": [
    {
     "data": {
      "text/plain": [
       "2"
      ]
     },
     "execution_count": 21,
     "metadata": {},
     "output_type": "execute_result"
    }
   ],
   "source": [
    "12 % 5"
   ]
  },
  {
   "cell_type": "code",
   "execution_count": 22,
   "id": "a8cc4c1a-8115-49b4-87f8-4346115a58d0",
   "metadata": {},
   "outputs": [
    {
     "data": {
      "text/plain": [
       "1"
      ]
     },
     "execution_count": 22,
     "metadata": {},
     "output_type": "execute_result"
    }
   ],
   "source": [
    "111 % 2"
   ]
  },
  {
   "cell_type": "code",
   "execution_count": 23,
   "id": "1ff990e6-eba8-4aec-8457-42a7b9ed0220",
   "metadata": {},
   "outputs": [
    {
     "data": {
      "text/plain": [
       "0"
      ]
     },
     "execution_count": 23,
     "metadata": {},
     "output_type": "execute_result"
    }
   ],
   "source": [
    "100%2"
   ]
  },
  {
   "cell_type": "code",
   "execution_count": 25,
   "id": "43efe2a0-0656-440b-8a01-f84a074872ec",
   "metadata": {},
   "outputs": [
    {
     "name": "stdout",
     "output_type": "stream",
     "text": [
      "5\n"
     ]
    }
   ],
   "source": [
    "a = 1\n",
    "a += 4\n",
    "print(a)"
   ]
  },
  {
   "cell_type": "code",
   "execution_count": 26,
   "id": "c0bbf7b1-6d4e-42e3-87d2-3c7ae524f608",
   "metadata": {},
   "outputs": [
    {
     "name": "stdout",
     "output_type": "stream",
     "text": [
      "3\n"
     ]
    }
   ],
   "source": [
    "a = 7\n",
    "a %= 4\n",
    "print(a)"
   ]
  },
  {
   "cell_type": "code",
   "execution_count": 27,
   "id": "a7b55790-5c5b-480a-92d0-2a8c1b5c2ffc",
   "metadata": {},
   "outputs": [
    {
     "data": {
      "text/plain": [
       "-125"
      ]
     },
     "execution_count": 27,
     "metadata": {},
     "output_type": "execute_result"
    }
   ],
   "source": [
    "min(30, -125, 250, 1)"
   ]
  },
  {
   "cell_type": "code",
   "execution_count": 28,
   "id": "83ee6599-391a-4937-92d8-792e618f61a0",
   "metadata": {},
   "outputs": [
    {
     "data": {
      "text/plain": [
       "12"
      ]
     },
     "execution_count": 28,
     "metadata": {},
     "output_type": "execute_result"
    }
   ],
   "source": [
    "abs(-12)"
   ]
  },
  {
   "cell_type": "code",
   "execution_count": null,
   "id": "61130973-6847-47ca-a01d-94560e2f4b6a",
   "metadata": {},
   "outputs": [],
   "source": []
  }
 ],
 "metadata": {
  "kernelspec": {
   "display_name": "Python 3 (ipykernel)",
   "language": "python",
   "name": "python3"
  },
  "language_info": {
   "codemirror_mode": {
    "name": "ipython",
    "version": 3
   },
   "file_extension": ".py",
   "mimetype": "text/x-python",
   "name": "python",
   "nbconvert_exporter": "python",
   "pygments_lexer": "ipython3",
   "version": "3.12.2"
  }
 },
 "nbformat": 4,
 "nbformat_minor": 5
}
