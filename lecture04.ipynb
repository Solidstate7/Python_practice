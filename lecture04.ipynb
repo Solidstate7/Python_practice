{
 "cells": [
  {
   "cell_type": "code",
   "execution_count": 1,
   "id": "061e1038-b66b-4e7e-b567-a84c0a381252",
   "metadata": {},
   "outputs": [
    {
     "data": {
      "text/plain": [
       "float"
      ]
     },
     "execution_count": 1,
     "metadata": {},
     "output_type": "execute_result"
    }
   ],
   "source": [
    "num = 4.5\n",
    "type(num)"
   ]
  },
  {
   "cell_type": "code",
   "execution_count": 2,
   "id": "fc5ecf5c-0e1a-4ca3-a07a-6b95e79a83e1",
   "metadata": {},
   "outputs": [
    {
     "data": {
      "text/plain": [
       "str"
      ]
     },
     "execution_count": 2,
     "metadata": {},
     "output_type": "execute_result"
    }
   ],
   "source": [
    "numChar = '4'\n",
    "type(numChar)"
   ]
  },
  {
   "cell_type": "code",
   "execution_count": 6,
   "id": "b71e4958-8ff9-4a05-86ca-01bb0d51d9fb",
   "metadata": {},
   "outputs": [
    {
     "name": "stdout",
     "output_type": "stream",
     "text": [
      "Python is fun\n"
     ]
    }
   ],
   "source": [
    "msg1 =  \"Python is\"\n",
    "msg2 = \"fun\"\n",
    "print(msg1, end=' ')\n",
    "print(msg2)"
   ]
  },
  {
   "cell_type": "code",
   "execution_count": 7,
   "id": "9790366f-6981-43f8-bae3-f693139bdc4b",
   "metadata": {},
   "outputs": [
    {
     "name": "stdout",
     "output_type": "stream",
     "text": [
      "\"Quotation Marks\"\n"
     ]
    }
   ],
   "source": [
    "print(\"\\\"Quotation Marks\\\"\")"
   ]
  },
  {
   "cell_type": "code",
   "execution_count": 10,
   "id": "32d90204-3d27-4207-8cbf-6616b914f6b2",
   "metadata": {},
   "outputs": [
    {
     "name": "stdout",
     "output_type": "stream",
     "text": [
      "\n",
      "Must be preserved\n",
      "as it is\n",
      "    huh?\n"
     ]
    }
   ],
   "source": [
    "rawString = '''\n",
    "Must be preserved\n",
    "as it is\n",
    "    huh?'''\n",
    "print(rawString)"
   ]
  },
  {
   "cell_type": "code",
   "execution_count": 11,
   "id": "22232007-c014-4181-9ead-9c28cc3a9c96",
   "metadata": {},
   "outputs": [
    {
     "name": "stdout",
     "output_type": "stream",
     "text": [
      "Today's classmate is Eunjae.\n"
     ]
    }
   ],
   "source": [
    "msg = \"Eunjae\"\n",
    "print(\"Today's\", \"classmate is\", msg+\".\")"
   ]
  },
  {
   "cell_type": "code",
   "execution_count": 13,
   "id": "15eb5b50-b4a7-4cd4-9112-2f13666d08d6",
   "metadata": {},
   "outputs": [
    {
     "data": {
      "text/plain": [
       "True"
      ]
     },
     "execution_count": 13,
     "metadata": {},
     "output_type": "execute_result"
    }
   ],
   "source": [
    "age = 24\n",
    "gender = \"F\"\n",
    "(age <= 30) & (gender == \"F\")"
   ]
  },
  {
   "cell_type": "code",
   "execution_count": null,
   "id": "00730322-5efc-49a9-8193-73eacb5dc0df",
   "metadata": {},
   "outputs": [],
   "source": []
  }
 ],
 "metadata": {
  "kernelspec": {
   "display_name": "Python 3 (ipykernel)",
   "language": "python",
   "name": "python3"
  },
  "language_info": {
   "codemirror_mode": {
    "name": "ipython",
    "version": 3
   },
   "file_extension": ".py",
   "mimetype": "text/x-python",
   "name": "python",
   "nbconvert_exporter": "python",
   "pygments_lexer": "ipython3",
   "version": "3.12.2"
  }
 },
 "nbformat": 4,
 "nbformat_minor": 5
}
